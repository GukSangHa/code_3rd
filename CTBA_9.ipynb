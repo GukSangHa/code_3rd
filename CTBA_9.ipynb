{
  "nbformat": 4,
  "nbformat_minor": 0,
  "metadata": {
    "colab": {
      "provenance": [],
      "authorship_tag": "ABX9TyOiUdU+uiIP8SGQs6vQht1p",
      "include_colab_link": true
    },
    "kernelspec": {
      "name": "python3",
      "display_name": "Python 3"
    },
    "language_info": {
      "name": "python"
    }
  },
  "cells": [
    {
      "cell_type": "markdown",
      "metadata": {
        "id": "view-in-github",
        "colab_type": "text"
      },
      "source": [
        "<a href=\"https://colab.research.google.com/github/GukSangHa/code_3rd/blob/main/CTBA_9.ipynb\" target=\"_parent\"><img src=\"https://colab.research.google.com/assets/colab-badge.svg\" alt=\"Open In Colab\"/></a>"
      ]
    },
    {
      "cell_type": "markdown",
      "source": [
        "1. 두가지 이상의 선택, 다양한 선택구조 코딩\n",
        "-배송료처리 3가지로 작성\n",
        "-변수: price, 가격 10만원이상 0원, 2만원이상 3000원, 그외 5천원"
      ],
      "metadata": {
        "id": "8YgbhPToMh0Q"
      }
    },
    {
      "cell_type": "code",
      "source": [
        "print(\"배송료를 계산합니다.\")\n",
        "print(\"#\" * 30)\n",
        "price = int(input(\"구매금액 입력: \"))\n",
        "if price >= 100000:\n",
        "   shipping_cost = 0\n",
        "else:\n",
        " if price >= 20000:\n",
        "  shipping_cost = 3000\n",
        " else:\n",
        "  shipping_cost = 5000\n",
        "print(f'배송료는 {shipping_cost}원 입니다.')"
      ],
      "metadata": {
        "colab": {
          "base_uri": "https://localhost:8080/"
        },
        "id": "Oh3QBCoBM6NF",
        "outputId": "ed0d26a5-4e80-4416-ee93-0d6af2863a9a"
      },
      "execution_count": 12,
      "outputs": [
        {
          "output_type": "stream",
          "name": "stdout",
          "text": [
            "배송료를 계산합니다.\n",
            "##############################\n",
            "구매금액 입력: 19000\n",
            "배송료는 5000원 입니다.\n"
          ]
        }
      ]
    },
    {
      "cell_type": "markdown",
      "source": [
        "2.환영합니다. 5번 출력, 10번 출력, 30번 출력"
      ],
      "metadata": {
        "id": "1TfBK0xSOP9h"
      }
    },
    {
      "cell_type": "code",
      "source": [
        "print(\"환영합니다.\")\n",
        "print(\"환영합니다.\")\n",
        "print(\"환영합니다.\")\n",
        "print(\"환영합니다.\")\n",
        "print(\"환영합니다.\")"
      ],
      "metadata": {
        "colab": {
          "base_uri": "https://localhost:8080/"
        },
        "id": "DISSpgd0OaeR",
        "outputId": "e99965b6-4515-435c-90f0-01247d986c4b"
      },
      "execution_count": 3,
      "outputs": [
        {
          "output_type": "stream",
          "name": "stdout",
          "text": [
            "환영합니다.\n",
            "환영합니다.\n",
            "환영합니다.\n",
            "환영합니다.\n",
            "환영합니다.\n"
          ]
        }
      ]
    },
    {
      "cell_type": "code",
      "source": [
        "print(\"환영합니다.\\n\" * 5)"
      ],
      "metadata": {
        "colab": {
          "base_uri": "https://localhost:8080/"
        },
        "id": "R1ITHRJqOp3j",
        "outputId": "ebf37d8e-f3b3-4baf-d1f8-a2f40cda5082"
      },
      "execution_count": 13,
      "outputs": [
        {
          "output_type": "stream",
          "name": "stdout",
          "text": [
            "환영합니다.\n",
            "환영합니다.\n",
            "환영합니다.\n",
            "환영합니다.\n",
            "환영합니다.\n",
            "\n"
          ]
        }
      ]
    },
    {
      "cell_type": "code",
      "source": [
        "count = 1\n",
        "while count <=5:\n",
        "  #print(\"(\", count, \")\", \"환영합니다.\")\n",
        "   print(F'({count})환영합니다.')\n",
        "  #count = count + 1\n",
        "   count += 1"
      ],
      "metadata": {
        "colab": {
          "base_uri": "https://localhost:8080/"
        },
        "id": "aVYipj_CSmUk",
        "outputId": "4797431e-083b-4678-85cf-ff9df932095d"
      },
      "execution_count": 46,
      "outputs": [
        {
          "output_type": "stream",
          "name": "stdout",
          "text": [
            "(1)환영합니다.\n",
            "(2)환영합니다.\n",
            "(3)환영합니다.\n",
            "(4)환영합니다.\n",
            "(5)환영합니다.\n"
          ]
        }
      ]
    },
    {
      "cell_type": "markdown",
      "source": [
        "3. 0부터 9까지 출력하는 코드 작성\n",
        "-변수:x"
      ],
      "metadata": {
        "id": "5RdldYP4UtBV"
      }
    },
    {
      "cell_type": "code",
      "source": [
        "x = 0\n",
        "while x < 10:\n",
        "  print(x, end=' ')\n",
        "  x += 1"
      ],
      "metadata": {
        "colab": {
          "base_uri": "https://localhost:8080/"
        },
        "id": "jfW4zTAbU3dK",
        "outputId": "3f954db5-ba23-459b-ebec-d85ea6fd04b6"
      },
      "execution_count": 26,
      "outputs": [
        {
          "output_type": "stream",
          "name": "stdout",
          "text": [
            "0 1 2 3 4 5 6 7 8 9 "
          ]
        }
      ]
    },
    {
      "cell_type": "markdown",
      "source": [
        "4. 1부터 10까지 정수의 합을 계산하여 출력하는 코드"
      ],
      "metadata": {
        "id": "lo2Im4-AYdQS"
      }
    },
    {
      "cell_type": "code",
      "source": [
        "x = 1\n",
        "total = 0\n",
        "while x <= 10:\n",
        "  total = total + x\n",
        "  x += 1\n",
        "print(total)"
      ],
      "metadata": {
        "colab": {
          "base_uri": "https://localhost:8080/"
        },
        "id": "PZ1IMMlVYiEh",
        "outputId": "1a5ee193-73ee-430c-a1f1-a18b687c4be7"
      },
      "execution_count": 32,
      "outputs": [
        {
          "output_type": "stream",
          "name": "stdout",
          "text": [
            "55\n"
          ]
        }
      ]
    },
    {
      "cell_type": "code",
      "source": [
        "x = 1\n",
        "while x <="
      ],
      "metadata": {
        "id": "Xq-7YxndY8Ec"
      },
      "execution_count": null,
      "outputs": []
    },
    {
      "cell_type": "markdown",
      "source": [
        "5. 3-6-9 게임(3의 배수 판단): 3의 배수를 3으로 나누면 나머지가 0이 되므로(i mod 3)의 값이 0이면 박수를 출력, 아니면 숫자를 출력해주는 코드 작성"
      ],
      "metadata": {
        "id": "W8n_LxbtVqz-"
      }
    },
    {
      "cell_type": "code",
      "source": [
        "i = 1                       # 변수 i는 0으로 선언\n",
        "while i <=30:               # 반복문 while사용해서 i가 30보다 작거나 같을떄\n",
        "  if i % 3 == 0:            # 만약 i값을 3으로 나눈 나머지가 0이면\n",
        "    print(\"박수\", end=' ')  # 박수를 출력하고 공백을 하나 만듦\n",
        "  else:                     # 위의 것이 아니면,\n",
        "    print(i, end=' ')       # i값만 출력하고 공백 하나 만듦\n",
        "  i += 1                    # 변수 i값에 i와 1을 더해서 다시 변수 i에 선언"
      ],
      "metadata": {
        "colab": {
          "base_uri": "https://localhost:8080/"
        },
        "id": "9LIhAwF0WBr4",
        "outputId": "5da33507-b38b-4803-ec76-ca8f70115e97"
      },
      "execution_count": 31,
      "outputs": [
        {
          "output_type": "stream",
          "name": "stdout",
          "text": [
            "1 2 박수 4 5 박수 7 8 박수 10 11 박수 13 14 박수 16 17 박수 19 20 박수 22 23 박수 25 26 박수 28 29 박수 "
          ]
        }
      ]
    },
    {
      "cell_type": "code",
      "source": [
        "for num in range(1, 11):       # 1부터 11까지의 숫자를 반복\n",
        "  if num % 3 == 0:             # 숫자 (num)를 3으로 나눈 나머지가 0인 경우\n",
        "   print(\"박수\", end=' ')      # 박수를 출력하고 공백 만듦\n",
        "  else:                        # 그게 아니면\n",
        "    print(num, end=' ')        # 숫자만 출력하고 공백 만듦"
      ],
      "metadata": {
        "colab": {
          "base_uri": "https://localhost:8080/"
        },
        "id": "-4Hed-kBZKfE",
        "outputId": "d03ce77c-0b6a-4ef1-a551-a2943ac595f1"
      },
      "execution_count": 47,
      "outputs": [
        {
          "output_type": "stream",
          "name": "stdout",
          "text": [
            "1 2 박수 4 5 박수 7 8 박수 10 "
          ]
        }
      ]
    },
    {
      "cell_type": "markdown",
      "source": [
        "6. 팩토리얼 계산하는 코드작성"
      ],
      "metadata": {
        "id": "cnGyG4J3adYa"
      }
    },
    {
      "cell_type": "code",
      "source": [
        "i = int(input(\"팩토리얼 값입력: \"))\n",
        "factorial = 1\n",
        "while i >= 1:\n",
        "  factorial = factorial * i\n",
        "  i -= 1\n",
        "print(factorial)"
      ],
      "metadata": {
        "colab": {
          "base_uri": "https://localhost:8080/"
        },
        "id": "b8aQBRNsai9O",
        "outputId": "c296385e-2f9f-44e0-e32c-6344ba98fdf7"
      },
      "execution_count": 45,
      "outputs": [
        {
          "output_type": "stream",
          "name": "stdout",
          "text": [
            "팩토리얼 값입력: 5\n",
            "120\n"
          ]
        }
      ]
    },
    {
      "cell_type": "code",
      "source": [
        "num = int(input(\"팩토리얼 값입력: \"))\n",
        "factorial = 1\n",
        "while num >=1:\n",
        "  factorial = factorial * num\n",
        "  num-= 1\n",
        "  print(\"계산된 팩토리얼 값은 :\", factorial)"
      ],
      "metadata": {
        "colab": {
          "base_uri": "https://localhost:8080/"
        },
        "id": "JtI9Q9hKbgeD",
        "outputId": "a646b2a5-dda4-48c3-8279-0c7dd982729c"
      },
      "execution_count": 41,
      "outputs": [
        {
          "output_type": "stream",
          "name": "stdout",
          "text": [
            "팩토리얼 값입력: 5\n",
            "계산된 팩토리얼 값은 : 5\n",
            "계산된 팩토리얼 값은 : 20\n",
            "계산된 팩토리얼 값은 : 60\n",
            "계산된 팩토리얼 값은 : 120\n",
            "계산된 팩토리얼 값은 : 120\n"
          ]
        }
      ]
    }
  ]
}