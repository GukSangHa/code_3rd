{
  "nbformat": 4,
  "nbformat_minor": 0,
  "metadata": {
    "colab": {
      "provenance": [],
      "authorship_tag": "ABX9TyPKLXvRfi4XeCpbu13M6vIB",
      "include_colab_link": true
    },
    "kernelspec": {
      "name": "python3",
      "display_name": "Python 3"
    },
    "language_info": {
      "name": "python"
    }
  },
  "cells": [
    {
      "cell_type": "markdown",
      "metadata": {
        "id": "view-in-github",
        "colab_type": "text"
      },
      "source": [
        "<a href=\"https://colab.research.google.com/github/GukSangHa/code_3rd/blob/main/CTC_7_1.ipynb\" target=\"_parent\"><img src=\"https://colab.research.google.com/assets/colab-badge.svg\" alt=\"Open In Colab\"/></a>"
      ]
    },
    {
      "cell_type": "markdown",
      "source": [
        "1. 사용자로부터 3개의 값(X, Y, Z)을 입력받아서 각각 1씩 증가되고, 출력되는\n",
        "코드작성\n",
        "\n"
      ],
      "metadata": {
        "id": "vxLeEVlrHIiZ"
      }
    },
    {
      "cell_type": "code",
      "source": [
        "x= int(input(\"x의 값을 입력하시오.:\"))                                           # x의 값을 정수로 입력받습니다.\n",
        "y= int(input(\"y의 값을 입력하시오.:\"))                                           # y의 값을 정수로 입력받습니다.\n",
        "z= int(input(\"z의 값을 입력하시오.:\"))                                           # z의 값을 정수로 입력받습니다.\n",
        "x= x+1                                                                           # x에 1을 더합니다.\n",
        "y= y+1                                                                           # y에 1을 더합니다.\n",
        "z= z+1                                                                           # z에 1을 더합니다.\n",
        "print(f'x의 값은 {x}이며, y의 값은 {y}이고 z의 값은 {z}이다.')                   # x, y, z의 값을 출력합니다."
      ],
      "metadata": {
        "colab": {
          "base_uri": "https://localhost:8080/"
        },
        "id": "PyWpCm04HwMY",
        "outputId": "6b049bd7-0e24-4145-bab6-bd731ace1b28"
      },
      "execution_count": null,
      "outputs": [
        {
          "output_type": "stream",
          "name": "stdout",
          "text": [
            "x의 값을 입력하시오.:1\n",
            "y의 값을 입력하시오.:2\n",
            "z의 값을 입력하시오.:3\n",
            "x의 값은 2이며, y의 값은 3이고 z의 값은 4이다.\n"
          ]
        }
      ]
    },
    {
      "cell_type": "markdown",
      "source": [
        "2. 알바생의 시급과 시간을 계산하여 월급을 출력한 코드"
      ],
      "metadata": {
        "id": "M0MP6PT8JeR5"
      }
    },
    {
      "cell_type": "code",
      "source": [
        "hours_worked = int(input(\"일한 시간을 입력하시오.:\"))                                                # 일한 시간을 정수로 입력받습니다.\n",
        "pay_rate = int(input(\"시급을 입력하시오(23기준 9620원):\"))                                           # 시급을 정수로 입력받습니다.\n",
        "monthly_pay= hours_worked * pay_rate                                                                 # 일한 시간과 시급을 곱하여 월급여를 계산합니다.\n",
        "print(f\"일한시간은 {hours_worked}이고, 시급은 {pay_rate}이며, 월급여는 {monthly_pay}원 입니다.:\")    # 일한 시간, 시급, 월급여를 출력합니다."
      ],
      "metadata": {
        "colab": {
          "base_uri": "https://localhost:8080/"
        },
        "id": "6y2ifYEOJk6B",
        "outputId": "377f83d5-c5da-4cdc-d6db-e8785031a4cf"
      },
      "execution_count": null,
      "outputs": [
        {
          "output_type": "stream",
          "name": "stdout",
          "text": [
            "일한 시간을 입력하시오.:10\n",
            "시급을 입력하시오(23기준 9620원):9620\n",
            "일한시간은 10이고, 시급은 9620이며, 월급여는 96200원 입니다.:\n"
          ]
        }
      ]
    },
    {
      "cell_type": "markdown",
      "source": [
        "3. 환율 계산하는 코드작성\n",
        "-원의 변수는 won\n",
        "-달러의 변수는 usd\n",
        "-환전의 변수는 exchange"
      ],
      "metadata": {
        "id": "5b60kp9gLmGb"
      }
    },
    {
      "cell_type": "code",
      "source": [
        "won= int(input(\"환전할 금액을 입력(kor):\"))                                                        # 환전할 금액을 한국 원화로 입력받습니다.\n",
        "usd = int(input(\"현재 달러의 환율 입력(231031:1372):\"))                                            # 현재 달러의 환율을 입력받습니다.\n",
        "exchange = won//usd                                                                                # 환전할 금액을 환율로 나누어 달러로 환전합니다.\n",
        "print(f'환전할 금액은 {won}이며, 달러 금액은 {usd}이고, 환전금액은 {exchange}달러입니다.')         # 환전할 금액, 달러 환율, 환전 금액을 출력합니다."
      ],
      "metadata": {
        "colab": {
          "base_uri": "https://localhost:8080/"
        },
        "id": "uiIZXdtsL-dB",
        "outputId": "0f07b9a7-177e-4d15-fb56-d3ce9cbacc4e"
      },
      "execution_count": null,
      "outputs": [
        {
          "output_type": "stream",
          "name": "stdout",
          "text": [
            "환전할 금액을 입력(kor):5000\n",
            "현재 달러의 환율 입력(231031:1372):1372\n",
            "환전할 금액은 5000이며, 달러 금액은 1372이고, 환전금액은 3달러입니다.\n"
          ]
        }
      ]
    },
    {
      "cell_type": "markdown",
      "source": [
        "4. 화씨(fahrenheit)를 섭씨(celcius)로 변환하는 코드작성"
      ],
      "metadata": {
        "id": "eu69mxy8N_0x"
      }
    },
    {
      "cell_type": "code",
      "source": [
        "fahrenheit = int(input(\"화씨온도를 입력하시오.:\"))                              # 화씨 온도를 정수로 입력받습니다.\n",
        "celcius = (fahrenheit - 32) / 1.8                                               # 화씨 온도를 섭씨 온도로 변환합니다.\n",
        "print(f'화씨온도는 {fahrenheit}도는. 섭씨 {celcius}도 입니다.')                 # 화씨 온도와 섭씨 온도를 출력합니다."
      ],
      "metadata": {
        "colab": {
          "base_uri": "https://localhost:8080/"
        },
        "id": "yketN2PdOZ0l",
        "outputId": "4f1a1cc9-ab6f-48f5-9be2-34f0588dcb0a"
      },
      "execution_count": null,
      "outputs": [
        {
          "output_type": "stream",
          "name": "stdout",
          "text": [
            "화씨온도를 입력하시오.:100\n",
            "화씨온도는 100도는. 섭씨 37.77777777777778도 입니다.\n"
          ]
        }
      ]
    },
    {
      "cell_type": "code",
      "source": [
        "celcius = float(input(\"섭씨온도를 입력하시오.:\"))                               # 섭씨 온도를 실수로 입력받습니다.\n",
        "fahrenheit = (celcius * 1.8) + 32                                               # 섭씨 온도를 화씨 온도로 변환합니다.\n",
        "print(f'섭씨온도는 {celcius}도는. 화씨{fahrenheit}도 입니다.')                  # 섭씨 온도와 화씨 온도를 출력합니다."
      ],
      "metadata": {
        "colab": {
          "base_uri": "https://localhost:8080/"
        },
        "id": "JzJTGFe7PtPE",
        "outputId": "aa0e9c7e-37a9-4f29-90f6-80df40c7f0f6"
      },
      "execution_count": null,
      "outputs": [
        {
          "output_type": "stream",
          "name": "stdout",
          "text": [
            "섭씨온도를 입력하시오.: 37.77777777777778\n",
            "섭씨온도는 37.77777777777778도는. 화씨100.0도 입니다.\n"
          ]
        }
      ]
    },
    {
      "cell_type": "markdown",
      "source": [
        "5. 사용자로부터 2개의 정수를 받아서 합계를 출력한 코드"
      ],
      "metadata": {
        "id": "Z4F9ymfpU4KY"
      }
    },
    {
      "cell_type": "code",
      "source": [
        "x = int(input(\"x의 값을 입력하시오.:\"))                                          # x의 값을 정수로 입력받습니다.\n",
        "y = int(input(\"y의 값을 입력하시오.:\"))                                          # y의 값을 정수로 입력받습니다.\n",
        "total = x+y                                                                      # x와 y의 합을 계산합니다.\n",
        "print(f'x의 값은 {x}이며, y의 값은 {y}이고 x와 y의 합은 {x+y}이다.')             # x의 값, y의 값, 그리고 x와 y의 합을 출력합니다."
      ],
      "metadata": {
        "colab": {
          "base_uri": "https://localhost:8080/"
        },
        "id": "Z5_iHR5VVEXP",
        "outputId": "4c4d32ed-0472-4d20-c8e9-222517b32da0"
      },
      "execution_count": null,
      "outputs": [
        {
          "output_type": "stream",
          "name": "stdout",
          "text": [
            "x의 값을 입력하시오.:2\n",
            "y의 값을 입력하시오.:4\n",
            "x의 값은 2이며, y의 값은 4이고 x와 y의 합은 6이다.\n"
          ]
        }
      ]
    },
    {
      "cell_type": "markdown",
      "source": [
        "6. 부가세 계산"
      ],
      "metadata": {
        "id": "ChbbmUmAWM0T"
      }
    },
    {
      "cell_type": "code",
      "source": [
        "price = int(input(\"상품의 가격을 입력하시오.:\"))                                 # 상품의 가격을 정수로 입력받습니다.\n",
        "vat = price*0.1                                                                  # 부가가치세(vat)를 계산합니다. 가격의 10%로 가정하고 계산합니다.\n",
        "print(vat)                                                                       # 부가가치세를 출력합니다."
      ],
      "metadata": {
        "colab": {
          "base_uri": "https://localhost:8080/"
        },
        "id": "22YWwzIoWSRq",
        "outputId": "c1303011-0c7b-4377-fcd4-10882032f244"
      },
      "execution_count": null,
      "outputs": [
        {
          "output_type": "stream",
          "name": "stdout",
          "text": [
            "상품의 가격을 입력하시오.:200\n",
            "20.0\n"
          ]
        }
      ]
    },
    {
      "cell_type": "markdown",
      "source": [],
      "metadata": {
        "id": "7kCTAIwWJLz_"
      }
    }
  ]
}