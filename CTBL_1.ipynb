{
  "nbformat": 4,
  "nbformat_minor": 0,
  "metadata": {
    "colab": {
      "provenance": [],
      "authorship_tag": "ABX9TyNQ6FUbTwHOZRCgEJNySf0U",
      "include_colab_link": true
    },
    "kernelspec": {
      "name": "python3",
      "display_name": "Python 3"
    },
    "language_info": {
      "name": "python"
    }
  },
  "cells": [
    {
      "cell_type": "markdown",
      "metadata": {
        "id": "view-in-github",
        "colab_type": "text"
      },
      "source": [
        "<a href=\"https://colab.research.google.com/github/GukSangHa/code_3rd/blob/main/CTBL_1.ipynb\" target=\"_parent\"><img src=\"https://colab.research.google.com/assets/colab-badge.svg\" alt=\"Open In Colab\"/></a>"
      ]
    },
    {
      "cell_type": "markdown",
      "source": [
        "1. 학생으로부터 성적을 입력받아 합격유무를 출력하는 코드작성\n",
        "-사용변수:Grade\n",
        "-사용수식:Grade>=70:"
      ],
      "metadata": {
        "id": "kVu8Ay_51Y7H"
      }
    },
    {
      "cell_type": "code",
      "source": [
        "Grade = int(input(\"성적입력: \"))\n",
        "if Grade >= 70:\n",
        " print(\"70점 이상이므로 합격\")\n",
        "else:\n",
        " print(\"70이하는 불합격\")"
      ],
      "metadata": {
        "colab": {
          "base_uri": "https://localhost:8080/"
        },
        "id": "P1DRoRF81xHY",
        "outputId": "28b85c2e-180a-4a6c-a31d-4340858506f1"
      },
      "execution_count": 4,
      "outputs": [
        {
          "output_type": "stream",
          "name": "stdout",
          "text": [
            "성적입력: 80\n",
            "70점 이상이므로 합격\n"
          ]
        }
      ]
    },
    {
      "cell_type": "markdown",
      "source": [
        "2. 쇼핑몰의 배송료를 계산하는 코드 작성\n",
        "-변수명 : price, shipping_cost\n",
        "-수식 : price >=20000\n",
        "-shipping_cost = 3000"
      ],
      "metadata": {
        "id": "2NUHGJyn3rQp"
      }
    },
    {
      "cell_type": "code",
      "source": [
        "price = int(input(\"구입금액 입력: \"))\n",
        "if price >=20000:\n",
        " shipping_cost = 0\n",
        " print(f'구입금액이 {price}원 이상입니다.')\n",
        "else:\n",
        "  shipping_cost = 3000\n",
        "  print(\"구입금액이 2만원 이하입니다\")\n",
        "print(f'회원님의 배송료는 {shipping_cost}입니다.')"
      ],
      "metadata": {
        "colab": {
          "base_uri": "https://localhost:8080/"
        },
        "id": "wliadmJw41Tx",
        "outputId": "0036a551-c0c0-4bbd-ecf4-4acfd6cb3c67"
      },
      "execution_count": 9,
      "outputs": [
        {
          "output_type": "stream",
          "name": "stdout",
          "text": [
            "구입금액 입력: 20000\n",
            "구입금액이 20000원 이상입니다.\n",
            "회원님의 배송료는 0입니다.\n"
          ]
        }
      ]
    },
    {
      "cell_type": "markdown",
      "source": [
        "3. 근무시간에 따라 초과근무와 정상근무를 판별하는 코드작성\n",
        "-변수 : work_hour\n",
        "-수식 : >=, 기준시간 : 72시간"
      ],
      "metadata": {
        "id": "aRN8A4LW78cj"
      }
    },
    {
      "cell_type": "markdown",
      "source": [],
      "metadata": {
        "id": "7n60wml17IEP"
      }
    },
    {
      "cell_type": "code",
      "source": [
        "work_hour = int(input(\"근무시간 입력: \"))\n",
        "if work_hour >= 72:\n",
        "  print(\"초과근무하였습니다.\")\n",
        "else:\n",
        "  print(\"정상근무하였습니다.\")"
      ],
      "metadata": {
        "colab": {
          "base_uri": "https://localhost:8080/"
        },
        "id": "c9yp0FqJ6ez6",
        "outputId": "c2fa3866-de3e-49c7-93c2-bffd410b9421"
      },
      "execution_count": 19,
      "outputs": [
        {
          "output_type": "stream",
          "name": "stdout",
          "text": [
            "근무시간 입력: 73\n",
            "초과근무하였습니다.\n"
          ]
        }
      ]
    },
    {
      "cell_type": "markdown",
      "source": [
        "4. 정수를 입력받아서 짝수인지 홀수인지 판별하는 코드작성\n",
        " - 변수: num\n",
        " - 수식: (num % 2) != 0:"
      ],
      "metadata": {
        "id": "PhgOuRJq99Uj"
      }
    },
    {
      "cell_type": "code",
      "source": [
        "num = int(input(\"정수를 입력하시오: \"))\n",
        "if (num % 2) !=0:\n",
        "  print(\"홀수입니다.\")\n",
        "else:\n",
        "  print(\"짝수입니다.\")"
      ],
      "metadata": {
        "colab": {
          "base_uri": "https://localhost:8080/"
        },
        "id": "WENFEjJV-t01",
        "outputId": "090971a4-e043-4ac6-e29d-c20d8c1bbbcc"
      },
      "execution_count": 20,
      "outputs": [
        {
          "output_type": "stream",
          "name": "stdout",
          "text": [
            "정수를 입력하시오: 4\n",
            "짝수입니다.\n"
          ]
        }
      ]
    },
    {
      "cell_type": "markdown",
      "source": [
        "5. 사용자의 이름과 나이를 입력받고, 답변하는 코드작성\n",
        "-입력 : 성명 - name\n",
        "-입력 : 나이 - age\n",
        "-입력 : if age <= 20:\n",
        "\n",
        "최종 출력물\n",
        "-이름을 입력하시오.: ***\n",
        "-나이를 입력하시오.: **\n",
        "-(1) 프로그래밍을 배우는 최적의 나이입니다.\n",
        "-(2) 아직도 늦지 않았습니다. 도전정신"
      ],
      "metadata": {
        "id": "rgZBlfKxAlTr"
      }
    },
    {
      "cell_type": "code",
      "source": [
        "name = input(\"이름을 입력하시오.: \")\n",
        "age = int(input(\"나이를 입력하시오.: \"))\n",
        "if age <= 20:\n",
        " print(\"프로그래밍을 배우는 최적의 나이입니다.\")\n",
        "else:\n",
        "  print(\"아직도 늦지 않았습니다. 도전정신\")"
      ],
      "metadata": {
        "colab": {
          "base_uri": "https://localhost:8080/"
        },
        "id": "c4hQo0qhBYZN",
        "outputId": "7dfa1a4a-2f37-4145-8d59-89f93a4effd2"
      },
      "execution_count": 30,
      "outputs": [
        {
          "output_type": "stream",
          "name": "stdout",
          "text": [
            "이름을 입력하시오.: 국상하\n",
            "나이를 입력하시오.: 20\n",
            "프로그래밍을 배우는 최적의 나이입니다.\n"
          ]
        }
      ]
    },
    {
      "cell_type": "code",
      "source": [
        "import random  # 파이썬의 랜덤 모듈을 사용하기 위해 import 합니다.\n",
        "\n",
        "lotto_numbers = range(1, 46)  # 로또 번호의 범위를 정의합니다. 1부터 45까지의 숫자입니다.\n",
        "selected_numbers = random.sample(lotto_numbers, 6)  # 랜덤.sample 함수를 사용하여 6개의 숫자를 무작위로 선택합니다.\n",
        "\n",
        "selected_numbers.sort()  # 선택된 번호를 오름차순으로 정렬합니다.\n",
        "print(selected_numbers)  # 선택된 번호를 출력합니다.\n"
      ],
      "metadata": {
        "colab": {
          "base_uri": "https://localhost:8080/"
        },
        "id": "rlA01WaHFALf",
        "outputId": "382f977d-dfad-4149-f9c0-b7839c4b21ea"
      },
      "execution_count": 31,
      "outputs": [
        {
          "output_type": "stream",
          "name": "stdout",
          "text": [
            "[2, 7, 10, 29, 30, 40]\n"
          ]
        }
      ]
    },
    {
      "cell_type": "code",
      "source": [
        "# 사용자로부터 이름과 나이를 입력받습니다.\n",
        "name = input(\"당신의 이름을 입력해주세요: \")\n",
        "age = int(input(\"당신의 나이를 입력해주세요: \"))  # 입력받은 나이는 문자열 형태이므로 int를 사용하여 정수로 변환합니다.\n",
        "\n",
        "# 나이에 따라 다른 메시지를 출력합니다.\n",
        "if age <= 20:\n",
        "    print(f\"{name}님, 프로그래밍을 배우는 최적의 나이입니다!\")\n",
        "else:\n",
        "    print(f\"{name}님, 아직 늦지 않았습니다. 도전정신을 가지고 학습을 계속해보세요!\")\n"
      ],
      "metadata": {
        "colab": {
          "base_uri": "https://localhost:8080/"
        },
        "id": "SLcBtt8YGcD8",
        "outputId": "746aeb9f-5bb6-4625-dfe3-3519d31b52bd"
      },
      "execution_count": 32,
      "outputs": [
        {
          "output_type": "stream",
          "name": "stdout",
          "text": [
            "당신의 이름을 입력해주세요: 국상하\n",
            "당신의 나이를 입력해주세요: 20\n",
            "국상하님, 프로그래밍을 배우는 최적의 나이입니다!\n"
          ]
        }
      ]
    }
  ]
}