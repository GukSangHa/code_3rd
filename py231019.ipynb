{
  "nbformat": 4,
  "nbformat_minor": 0,
  "metadata": {
    "colab": {
      "provenance": [],
      "authorship_tag": "ABX9TyOTaFndeppUD5eVC9z5ONXP",
      "include_colab_link": true
    },
    "kernelspec": {
      "name": "python3",
      "display_name": "Python 3"
    },
    "language_info": {
      "name": "python"
    }
  },
  "cells": [
    {
      "cell_type": "markdown",
      "metadata": {
        "id": "view-in-github",
        "colab_type": "text"
      },
      "source": [
        "<a href=\"https://colab.research.google.com/github/GukSangHa/code_3rd/blob/main/py231019.ipynb\" target=\"_parent\"><img src=\"https://colab.research.google.com/assets/colab-badge.svg\" alt=\"Open In Colab\"/></a>"
      ]
    },
    {
      "cell_type": "markdown",
      "source": [
        "1.To-Do List를 작성하시오.\n",
        " -2023년 10월 19일 국상하\n",
        " -(1) 09:20 도서관에서 책 빌리기\n",
        " -(2) 11:10 컴퓨팅적사고와 기초코딩 수업\n",
        " -(3) 13:00 점심식사\n",
        " -(4) 14:10 교양수업\n",
        " -(5) 16:00 파이썬 공부 및 레포트 작성\n",
        " -(6) 17:40 저녁식사및 집안일 돕기\n",
        " -(7) 19:00 LOL 하기\n"
      ],
      "metadata": {
        "id": "ENjk9UNkwRYA"
      }
    },
    {
      "cell_type": "code",
      "source": [
        "print(\"To-D0 List를 작성하시오.\")                                               # To-Do List 작성을 출력합니다.\n",
        "print(\"2023년 10월 19일 국상하.\")                                               # 2023년 10월 19일 국상하를 출력합니다.\n",
        "print(\"(1) 09:20 도서관에서 책 빌리기.\")                                        # 09:20 도서관에서 책 빌리기를 출력합니다.\n",
        "print(\"(2) 11:10 컴퓨팅적사고와 기초코딩 수업.\")                                # 11:10 컴퓨팅적사고와 기초코딩 수업을 출력합니다.\n",
        "print(\"(3) 13:00 점심식사.\")                                                    # 13:00 점심식사을 출력합니다.\n",
        "print(\"(4) 14:10 교양수업.\")                                                    # 14:10 교양수업을 출력합니다.\n",
        "print(\"(5) 16:00 파이썬 공부 및 레포트 작성.\")                                  # 16:00 파이썬 공부 및 레포트 작성을 출력합니다.\n",
        "print(\"(6) 17:40 저녁식사및 집안일 돕기.\")                                      # 17:40 저녁식사및 집안일 돕기를 출력합니다.\n",
        "print(\"(7) 19:00 LOL 하기.\")                                                    # 19:00 LOL 하기를 출력합니다."
      ],
      "metadata": {
        "colab": {
          "base_uri": "https://localhost:8080/"
        },
        "id": "BLwnrEGbyI5i",
        "outputId": "fe97e576-aad6-4ab4-b1a1-97bf29cb7123"
      },
      "execution_count": null,
      "outputs": [
        {
          "output_type": "stream",
          "name": "stdout",
          "text": [
            "To-D0 List를 작성하시오.\n",
            "2023년 10월 19일 국상하.\n",
            "(1) 09:20 도서관에서 책 빌리기.\n",
            "(2) 11:10 컴퓨팅적사고와 기초코딩 수업.\n",
            "(3) 13:00 점심식사.\n",
            "(4) 14:10 교양수업.\n",
            "(5) 16:00 파이썬 공부 및 레포트 작성.\n",
            "(6) 17:40 저녁식사및 집안일 돕기.\n",
            "(7) 19:00 LOL 하기.\n"
          ]
        }
      ]
    },
    {
      "cell_type": "markdown",
      "source": [
        "2. 인사말 출력하기\n",
        " - 식사하셨습니까? 행님"
      ],
      "metadata": {
        "id": "_jA1FRAZwUQI"
      }
    },
    {
      "cell_type": "code",
      "source": [
        "print(\"식사하셨습니까? 행님.\")                            #\"식사하셨습니까? 행님.\" 를 출력합니다."
      ],
      "metadata": {
        "colab": {
          "base_uri": "https://localhost:8080/"
        },
        "id": "9zEcUM571x2c",
        "outputId": "8ae49c8d-d8a0-437a-a7f9-1fba6c972a42"
      },
      "execution_count": null,
      "outputs": [
        {
          "output_type": "stream",
          "name": "stdout",
          "text": [
            "식사하셨습니까? 행님.\n"
          ]
        }
      ]
    },
    {
      "cell_type": "markdown",
      "source": [
        "3. 학생 4명의 국어점수를 입력받아서 아래와 같이 출력하시오.\n",
        "  - 박보검: 90점\n",
        "  - 션    : 92점\n",
        "  - 도룡용: 80점\n",
        "  - 차은우: 99점\n",
        "  - 국어 점수 순위\n",
        "  - 1등 차은우\n",
        "  - 2등 션\n",
        "  - 3등 박보검\n",
        "  - 4등 도룡용"
      ],
      "metadata": {
        "id": "nkG_4M3Owty5"
      }
    },
    {
      "cell_type": "code",
      "source": [
        "n1 = (input(\"학생 이름과 점수를 입력하시오.:\"))    # 학생 이름과 점수 입력받기\n",
        "n2 = (input(\"학생 이름과 점수를 입력하시오.:\"))    # 학생 이름과 점수 입력받기\n",
        "n3 = (input(\"학생 이름과 점수를 입력하시오.:\"))    # 학생 이름과 점수 입력받기\n",
        "n4 = (input(\"학생 이름과 점수를 입력하시오.:\"))    # 학생 이름과 점수 입력받기\n",
        "print(\"1등\", n4)                                   # 1등은 n4에 저장된 학생입니다.\n",
        "print(\"2등\", n2)                                   # 2등은 n2에 저장된 학생입니다.\n",
        "print(\"3등\", n1)                                   # 3등은 n1에 저장된 학생입니다.\n",
        "print(\"4등\", n3)                                   # 4등은 n3에 저장된 학생입니다."
      ],
      "metadata": {
        "colab": {
          "base_uri": "https://localhost:8080/"
        },
        "id": "OdnGZnpV18qL",
        "outputId": "7752d964-b3e4-4ec7-a0e5-efeee39ba92b"
      },
      "execution_count": null,
      "outputs": [
        {
          "output_type": "stream",
          "name": "stdout",
          "text": [
            "학생 이름과 점수를 입력하시오.:박보검 90점\n",
            "학생 이름과 점수를 입력하시오.:션 92점\n",
            "학생 이름과 점수를 입력하시오.:도룡용 80점\n",
            "학생 이름과 점수를 입력하시오.:차은우 99점\n",
            "1등 차은우 99점\n",
            "2등 션 92점\n",
            "3등 박보검 90점\n",
            "4등 도룡용 80점\n"
          ]
        }
      ]
    },
    {
      "cell_type": "markdown",
      "source": [
        "4. 두개의 점수를 입력받아서 합계와 평균을 출력하시오."
      ],
      "metadata": {
        "id": "8eroUFT3xhpR"
      }
    },
    {
      "cell_type": "code",
      "source": [
        "n1=int(input(\"n1 값을 입력하시오.:\"))                                           # n1 값을 정수로 입력받습니다.\n",
        "n2=int(input(\"n2 값을 입력하시오.:\"))                                           # n2 값을 정수로 입력받습니다.\n",
        "total=n1+n2                                                                     # n1과 n2의 합을 구합니다.\n",
        "average=total/2                                                                 # 합을 2로 나누어 평균을 구합니다.\n",
        "print(average)                                                                  # 평균을 출력합니다."
      ],
      "metadata": {
        "colab": {
          "base_uri": "https://localhost:8080/"
        },
        "id": "-ehFW38m4YkE",
        "outputId": "e6a997cf-18e2-42fe-88a2-c9d2b2068d05"
      },
      "execution_count": null,
      "outputs": [
        {
          "output_type": "stream",
          "name": "stdout",
          "text": [
            "n1 값을 입력하시오.:90\n",
            "n2 값을 입력하시오.:92\n",
            "91.0\n"
          ]
        }
      ]
    }
  ]
}